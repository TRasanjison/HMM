{
 "cells": [
  {
   "cell_type": "markdown",
   "metadata": {},
   "source": [
    "# Les Chaînes de Markov Cachées"
   ]
  },
  {
   "cell_type": "code",
   "execution_count": 60,
   "metadata": {},
   "outputs": [],
   "source": [
    "import pandas as pd\n",
    "import numpy as np\n",
    "from matplotlib import pyplot as plt\n",
    "from statsmodels.tsa.seasonal import seasonal_decompose\n",
    "import random as rd\n",
    "from sklearn.model_selection import KFold"
   ]
  },
  {
   "cell_type": "markdown",
   "metadata": {},
   "source": [
    "## I) Notre principale série d'étude "
   ]
  },
  {
   "cell_type": "code",
   "execution_count": 14,
   "metadata": {},
   "outputs": [],
   "source": [
    "from pandas_datareader import data as wb\n",
    "dataset=wb.DataReader('^GSPC',data_source='yahoo',start='1-1-1995')"
   ]
  },
  {
   "cell_type": "code",
   "execution_count": 15,
   "metadata": {
    "scrolled": true
   },
   "outputs": [
    {
     "data": {
      "text/html": [
       "<div>\n",
       "<style scoped>\n",
       "    .dataframe tbody tr th:only-of-type {\n",
       "        vertical-align: middle;\n",
       "    }\n",
       "\n",
       "    .dataframe tbody tr th {\n",
       "        vertical-align: top;\n",
       "    }\n",
       "\n",
       "    .dataframe thead th {\n",
       "        text-align: right;\n",
       "    }\n",
       "</style>\n",
       "<table border=\"1\" class=\"dataframe\">\n",
       "  <thead>\n",
       "    <tr style=\"text-align: right;\">\n",
       "      <th></th>\n",
       "      <th>High</th>\n",
       "      <th>Low</th>\n",
       "      <th>Open</th>\n",
       "      <th>Close</th>\n",
       "      <th>Volume</th>\n",
       "      <th>Adj Close</th>\n",
       "    </tr>\n",
       "    <tr>\n",
       "      <th>Date</th>\n",
       "      <th></th>\n",
       "      <th></th>\n",
       "      <th></th>\n",
       "      <th></th>\n",
       "      <th></th>\n",
       "      <th></th>\n",
       "    </tr>\n",
       "  </thead>\n",
       "  <tbody>\n",
       "    <tr>\n",
       "      <th>1995-01-03</th>\n",
       "      <td>459.269989</td>\n",
       "      <td>457.200012</td>\n",
       "      <td>459.209991</td>\n",
       "      <td>459.109985</td>\n",
       "      <td>262450000</td>\n",
       "      <td>459.109985</td>\n",
       "    </tr>\n",
       "    <tr>\n",
       "      <th>1995-01-04</th>\n",
       "      <td>460.720001</td>\n",
       "      <td>457.559998</td>\n",
       "      <td>459.130005</td>\n",
       "      <td>460.709991</td>\n",
       "      <td>319510000</td>\n",
       "      <td>460.709991</td>\n",
       "    </tr>\n",
       "    <tr>\n",
       "      <th>1995-01-05</th>\n",
       "      <td>461.299988</td>\n",
       "      <td>459.750000</td>\n",
       "      <td>460.730011</td>\n",
       "      <td>460.339996</td>\n",
       "      <td>309050000</td>\n",
       "      <td>460.339996</td>\n",
       "    </tr>\n",
       "    <tr>\n",
       "      <th>1995-01-06</th>\n",
       "      <td>462.489990</td>\n",
       "      <td>459.470001</td>\n",
       "      <td>460.380005</td>\n",
       "      <td>460.679993</td>\n",
       "      <td>308070000</td>\n",
       "      <td>460.679993</td>\n",
       "    </tr>\n",
       "    <tr>\n",
       "      <th>1995-01-09</th>\n",
       "      <td>461.769989</td>\n",
       "      <td>459.739990</td>\n",
       "      <td>460.670013</td>\n",
       "      <td>460.829987</td>\n",
       "      <td>278790000</td>\n",
       "      <td>460.829987</td>\n",
       "    </tr>\n",
       "    <tr>\n",
       "      <th>1995-01-10</th>\n",
       "      <td>464.589996</td>\n",
       "      <td>460.899994</td>\n",
       "      <td>460.899994</td>\n",
       "      <td>461.679993</td>\n",
       "      <td>352450000</td>\n",
       "      <td>461.679993</td>\n",
       "    </tr>\n",
       "    <tr>\n",
       "      <th>1995-01-11</th>\n",
       "      <td>463.609985</td>\n",
       "      <td>458.649994</td>\n",
       "      <td>461.679993</td>\n",
       "      <td>461.660004</td>\n",
       "      <td>346310000</td>\n",
       "      <td>461.660004</td>\n",
       "    </tr>\n",
       "    <tr>\n",
       "      <th>1995-01-12</th>\n",
       "      <td>461.929993</td>\n",
       "      <td>460.630005</td>\n",
       "      <td>461.640015</td>\n",
       "      <td>461.640015</td>\n",
       "      <td>313040000</td>\n",
       "      <td>461.640015</td>\n",
       "    </tr>\n",
       "    <tr>\n",
       "      <th>1995-01-13</th>\n",
       "      <td>466.429993</td>\n",
       "      <td>461.640015</td>\n",
       "      <td>461.640015</td>\n",
       "      <td>465.970001</td>\n",
       "      <td>336740000</td>\n",
       "      <td>465.970001</td>\n",
       "    </tr>\n",
       "    <tr>\n",
       "      <th>1995-01-16</th>\n",
       "      <td>470.390015</td>\n",
       "      <td>465.970001</td>\n",
       "      <td>465.970001</td>\n",
       "      <td>469.380005</td>\n",
       "      <td>315810000</td>\n",
       "      <td>469.380005</td>\n",
       "    </tr>\n",
       "    <tr>\n",
       "      <th>1995-01-17</th>\n",
       "      <td>470.149994</td>\n",
       "      <td>468.190002</td>\n",
       "      <td>469.380005</td>\n",
       "      <td>470.049988</td>\n",
       "      <td>331520000</td>\n",
       "      <td>470.049988</td>\n",
       "    </tr>\n",
       "    <tr>\n",
       "      <th>1995-01-18</th>\n",
       "      <td>470.429993</td>\n",
       "      <td>468.029999</td>\n",
       "      <td>470.049988</td>\n",
       "      <td>469.709991</td>\n",
       "      <td>344660000</td>\n",
       "      <td>469.709991</td>\n",
       "    </tr>\n",
       "    <tr>\n",
       "      <th>1995-01-19</th>\n",
       "      <td>469.720001</td>\n",
       "      <td>466.399994</td>\n",
       "      <td>469.720001</td>\n",
       "      <td>466.950012</td>\n",
       "      <td>297220000</td>\n",
       "      <td>466.950012</td>\n",
       "    </tr>\n",
       "    <tr>\n",
       "      <th>1995-01-20</th>\n",
       "      <td>466.989990</td>\n",
       "      <td>463.989990</td>\n",
       "      <td>466.950012</td>\n",
       "      <td>464.779999</td>\n",
       "      <td>378190000</td>\n",
       "      <td>464.779999</td>\n",
       "    </tr>\n",
       "    <tr>\n",
       "      <th>1995-01-23</th>\n",
       "      <td>466.230011</td>\n",
       "      <td>461.140015</td>\n",
       "      <td>464.779999</td>\n",
       "      <td>465.820007</td>\n",
       "      <td>325830000</td>\n",
       "      <td>465.820007</td>\n",
       "    </tr>\n",
       "    <tr>\n",
       "      <th>1995-01-24</th>\n",
       "      <td>466.880005</td>\n",
       "      <td>465.470001</td>\n",
       "      <td>465.809998</td>\n",
       "      <td>465.859985</td>\n",
       "      <td>315430000</td>\n",
       "      <td>465.859985</td>\n",
       "    </tr>\n",
       "    <tr>\n",
       "      <th>1995-01-25</th>\n",
       "      <td>469.510010</td>\n",
       "      <td>464.399994</td>\n",
       "      <td>465.859985</td>\n",
       "      <td>467.440002</td>\n",
       "      <td>342610000</td>\n",
       "      <td>467.440002</td>\n",
       "    </tr>\n",
       "    <tr>\n",
       "      <th>1995-01-26</th>\n",
       "      <td>468.619995</td>\n",
       "      <td>466.899994</td>\n",
       "      <td>467.440002</td>\n",
       "      <td>468.320007</td>\n",
       "      <td>304730000</td>\n",
       "      <td>468.320007</td>\n",
       "    </tr>\n",
       "    <tr>\n",
       "      <th>1995-01-27</th>\n",
       "      <td>471.359985</td>\n",
       "      <td>468.320007</td>\n",
       "      <td>468.320007</td>\n",
       "      <td>470.390015</td>\n",
       "      <td>339510000</td>\n",
       "      <td>470.390015</td>\n",
       "    </tr>\n",
       "    <tr>\n",
       "      <th>1995-01-30</th>\n",
       "      <td>470.519989</td>\n",
       "      <td>467.489990</td>\n",
       "      <td>470.390015</td>\n",
       "      <td>468.510010</td>\n",
       "      <td>318550000</td>\n",
       "      <td>468.510010</td>\n",
       "    </tr>\n",
       "    <tr>\n",
       "      <th>1995-01-31</th>\n",
       "      <td>471.029999</td>\n",
       "      <td>468.179993</td>\n",
       "      <td>468.510010</td>\n",
       "      <td>470.420013</td>\n",
       "      <td>411590000</td>\n",
       "      <td>470.420013</td>\n",
       "    </tr>\n",
       "    <tr>\n",
       "      <th>1995-02-01</th>\n",
       "      <td>472.750000</td>\n",
       "      <td>469.290009</td>\n",
       "      <td>470.420013</td>\n",
       "      <td>470.399994</td>\n",
       "      <td>395310000</td>\n",
       "      <td>470.399994</td>\n",
       "    </tr>\n",
       "    <tr>\n",
       "      <th>1995-02-02</th>\n",
       "      <td>472.790009</td>\n",
       "      <td>469.950012</td>\n",
       "      <td>470.399994</td>\n",
       "      <td>472.790009</td>\n",
       "      <td>322110000</td>\n",
       "      <td>472.790009</td>\n",
       "    </tr>\n",
       "    <tr>\n",
       "      <th>1995-02-03</th>\n",
       "      <td>479.910004</td>\n",
       "      <td>472.779999</td>\n",
       "      <td>472.779999</td>\n",
       "      <td>478.649994</td>\n",
       "      <td>441000000</td>\n",
       "      <td>478.649994</td>\n",
       "    </tr>\n",
       "    <tr>\n",
       "      <th>1995-02-06</th>\n",
       "      <td>481.950012</td>\n",
       "      <td>478.359985</td>\n",
       "      <td>478.640015</td>\n",
       "      <td>481.140015</td>\n",
       "      <td>325660000</td>\n",
       "      <td>481.140015</td>\n",
       "    </tr>\n",
       "    <tr>\n",
       "      <th>1995-02-07</th>\n",
       "      <td>481.320007</td>\n",
       "      <td>479.690002</td>\n",
       "      <td>481.140015</td>\n",
       "      <td>480.809998</td>\n",
       "      <td>314660000</td>\n",
       "      <td>480.809998</td>\n",
       "    </tr>\n",
       "    <tr>\n",
       "      <th>1995-02-08</th>\n",
       "      <td>482.600006</td>\n",
       "      <td>480.399994</td>\n",
       "      <td>480.809998</td>\n",
       "      <td>481.190002</td>\n",
       "      <td>318430000</td>\n",
       "      <td>481.190002</td>\n",
       "    </tr>\n",
       "    <tr>\n",
       "      <th>1995-02-09</th>\n",
       "      <td>482.000000</td>\n",
       "      <td>479.910004</td>\n",
       "      <td>481.190002</td>\n",
       "      <td>480.190002</td>\n",
       "      <td>325570000</td>\n",
       "      <td>480.190002</td>\n",
       "    </tr>\n",
       "    <tr>\n",
       "      <th>1995-02-10</th>\n",
       "      <td>481.959991</td>\n",
       "      <td>479.529999</td>\n",
       "      <td>480.190002</td>\n",
       "      <td>481.459991</td>\n",
       "      <td>295600000</td>\n",
       "      <td>481.459991</td>\n",
       "    </tr>\n",
       "    <tr>\n",
       "      <th>1995-02-13</th>\n",
       "      <td>482.859985</td>\n",
       "      <td>481.070007</td>\n",
       "      <td>481.459991</td>\n",
       "      <td>481.649994</td>\n",
       "      <td>256270000</td>\n",
       "      <td>481.649994</td>\n",
       "    </tr>\n",
       "    <tr>\n",
       "      <th>...</th>\n",
       "      <td>...</td>\n",
       "      <td>...</td>\n",
       "      <td>...</td>\n",
       "      <td>...</td>\n",
       "      <td>...</td>\n",
       "      <td>...</td>\n",
       "    </tr>\n",
       "    <tr>\n",
       "      <th>2019-12-26</th>\n",
       "      <td>3240.080078</td>\n",
       "      <td>3227.199951</td>\n",
       "      <td>3227.199951</td>\n",
       "      <td>3239.909912</td>\n",
       "      <td>2160680000</td>\n",
       "      <td>3239.909912</td>\n",
       "    </tr>\n",
       "    <tr>\n",
       "      <th>2019-12-27</th>\n",
       "      <td>3247.929932</td>\n",
       "      <td>3234.370117</td>\n",
       "      <td>3247.229980</td>\n",
       "      <td>3240.020020</td>\n",
       "      <td>2428670000</td>\n",
       "      <td>3240.020020</td>\n",
       "    </tr>\n",
       "    <tr>\n",
       "      <th>2019-12-30</th>\n",
       "      <td>3240.919922</td>\n",
       "      <td>3216.570068</td>\n",
       "      <td>3240.090088</td>\n",
       "      <td>3221.290039</td>\n",
       "      <td>3013290000</td>\n",
       "      <td>3221.290039</td>\n",
       "    </tr>\n",
       "    <tr>\n",
       "      <th>2019-12-31</th>\n",
       "      <td>3231.719971</td>\n",
       "      <td>3212.030029</td>\n",
       "      <td>3215.179932</td>\n",
       "      <td>3230.780029</td>\n",
       "      <td>2893810000</td>\n",
       "      <td>3230.780029</td>\n",
       "    </tr>\n",
       "    <tr>\n",
       "      <th>2020-01-02</th>\n",
       "      <td>3258.139893</td>\n",
       "      <td>3235.530029</td>\n",
       "      <td>3244.669922</td>\n",
       "      <td>3257.850098</td>\n",
       "      <td>3458250000</td>\n",
       "      <td>3257.850098</td>\n",
       "    </tr>\n",
       "    <tr>\n",
       "      <th>2020-01-03</th>\n",
       "      <td>3246.149902</td>\n",
       "      <td>3222.340088</td>\n",
       "      <td>3226.360107</td>\n",
       "      <td>3234.850098</td>\n",
       "      <td>3461290000</td>\n",
       "      <td>3234.850098</td>\n",
       "    </tr>\n",
       "    <tr>\n",
       "      <th>2020-01-06</th>\n",
       "      <td>3246.840088</td>\n",
       "      <td>3214.639893</td>\n",
       "      <td>3217.550049</td>\n",
       "      <td>3246.280029</td>\n",
       "      <td>3674070000</td>\n",
       "      <td>3246.280029</td>\n",
       "    </tr>\n",
       "    <tr>\n",
       "      <th>2020-01-07</th>\n",
       "      <td>3244.909912</td>\n",
       "      <td>3232.429932</td>\n",
       "      <td>3241.860107</td>\n",
       "      <td>3237.179932</td>\n",
       "      <td>3420380000</td>\n",
       "      <td>3237.179932</td>\n",
       "    </tr>\n",
       "    <tr>\n",
       "      <th>2020-01-08</th>\n",
       "      <td>3267.070068</td>\n",
       "      <td>3236.669922</td>\n",
       "      <td>3238.590088</td>\n",
       "      <td>3253.050049</td>\n",
       "      <td>3720890000</td>\n",
       "      <td>3253.050049</td>\n",
       "    </tr>\n",
       "    <tr>\n",
       "      <th>2020-01-09</th>\n",
       "      <td>3275.580078</td>\n",
       "      <td>3263.669922</td>\n",
       "      <td>3266.030029</td>\n",
       "      <td>3274.699951</td>\n",
       "      <td>3638390000</td>\n",
       "      <td>3274.699951</td>\n",
       "    </tr>\n",
       "    <tr>\n",
       "      <th>2020-01-10</th>\n",
       "      <td>3282.989990</td>\n",
       "      <td>3260.860107</td>\n",
       "      <td>3281.810059</td>\n",
       "      <td>3265.350098</td>\n",
       "      <td>3212970000</td>\n",
       "      <td>3265.350098</td>\n",
       "    </tr>\n",
       "    <tr>\n",
       "      <th>2020-01-13</th>\n",
       "      <td>3288.129883</td>\n",
       "      <td>3268.429932</td>\n",
       "      <td>3271.129883</td>\n",
       "      <td>3288.129883</td>\n",
       "      <td>3456380000</td>\n",
       "      <td>3288.129883</td>\n",
       "    </tr>\n",
       "    <tr>\n",
       "      <th>2020-01-14</th>\n",
       "      <td>3294.250000</td>\n",
       "      <td>3277.189941</td>\n",
       "      <td>3285.350098</td>\n",
       "      <td>3283.149902</td>\n",
       "      <td>3665130000</td>\n",
       "      <td>3283.149902</td>\n",
       "    </tr>\n",
       "    <tr>\n",
       "      <th>2020-01-15</th>\n",
       "      <td>3298.659912</td>\n",
       "      <td>3280.689941</td>\n",
       "      <td>3282.270020</td>\n",
       "      <td>3289.290039</td>\n",
       "      <td>3716840000</td>\n",
       "      <td>3289.290039</td>\n",
       "    </tr>\n",
       "    <tr>\n",
       "      <th>2020-01-16</th>\n",
       "      <td>3317.110107</td>\n",
       "      <td>3302.820068</td>\n",
       "      <td>3302.969971</td>\n",
       "      <td>3316.810059</td>\n",
       "      <td>3535080000</td>\n",
       "      <td>3316.810059</td>\n",
       "    </tr>\n",
       "    <tr>\n",
       "      <th>2020-01-17</th>\n",
       "      <td>3329.879883</td>\n",
       "      <td>3318.860107</td>\n",
       "      <td>3323.659912</td>\n",
       "      <td>3329.620117</td>\n",
       "      <td>3698170000</td>\n",
       "      <td>3329.620117</td>\n",
       "    </tr>\n",
       "    <tr>\n",
       "      <th>2020-01-21</th>\n",
       "      <td>3329.790039</td>\n",
       "      <td>3316.610107</td>\n",
       "      <td>3321.030029</td>\n",
       "      <td>3320.790039</td>\n",
       "      <td>4105340000</td>\n",
       "      <td>3320.790039</td>\n",
       "    </tr>\n",
       "    <tr>\n",
       "      <th>2020-01-22</th>\n",
       "      <td>3337.770020</td>\n",
       "      <td>3320.040039</td>\n",
       "      <td>3330.020020</td>\n",
       "      <td>3321.750000</td>\n",
       "      <td>3619850000</td>\n",
       "      <td>3321.750000</td>\n",
       "    </tr>\n",
       "    <tr>\n",
       "      <th>2020-01-23</th>\n",
       "      <td>3326.879883</td>\n",
       "      <td>3301.870117</td>\n",
       "      <td>3315.770020</td>\n",
       "      <td>3325.540039</td>\n",
       "      <td>3764860000</td>\n",
       "      <td>3325.540039</td>\n",
       "    </tr>\n",
       "    <tr>\n",
       "      <th>2020-01-24</th>\n",
       "      <td>3333.179932</td>\n",
       "      <td>3281.530029</td>\n",
       "      <td>3333.100098</td>\n",
       "      <td>3295.469971</td>\n",
       "      <td>3707130000</td>\n",
       "      <td>3295.469971</td>\n",
       "    </tr>\n",
       "    <tr>\n",
       "      <th>2020-01-27</th>\n",
       "      <td>3258.850098</td>\n",
       "      <td>3234.500000</td>\n",
       "      <td>3247.159912</td>\n",
       "      <td>3243.629883</td>\n",
       "      <td>3823100000</td>\n",
       "      <td>3243.629883</td>\n",
       "    </tr>\n",
       "    <tr>\n",
       "      <th>2020-01-28</th>\n",
       "      <td>3285.780029</td>\n",
       "      <td>3253.219971</td>\n",
       "      <td>3255.350098</td>\n",
       "      <td>3276.239990</td>\n",
       "      <td>3526720000</td>\n",
       "      <td>3276.239990</td>\n",
       "    </tr>\n",
       "    <tr>\n",
       "      <th>2020-01-29</th>\n",
       "      <td>3293.469971</td>\n",
       "      <td>3271.889893</td>\n",
       "      <td>3289.459961</td>\n",
       "      <td>3273.399902</td>\n",
       "      <td>3584500000</td>\n",
       "      <td>3273.399902</td>\n",
       "    </tr>\n",
       "    <tr>\n",
       "      <th>2020-01-30</th>\n",
       "      <td>3285.909912</td>\n",
       "      <td>3242.800049</td>\n",
       "      <td>3256.449951</td>\n",
       "      <td>3283.659912</td>\n",
       "      <td>3787250000</td>\n",
       "      <td>3283.659912</td>\n",
       "    </tr>\n",
       "    <tr>\n",
       "      <th>2020-01-31</th>\n",
       "      <td>3282.330078</td>\n",
       "      <td>3214.679932</td>\n",
       "      <td>3282.330078</td>\n",
       "      <td>3225.520020</td>\n",
       "      <td>4527830000</td>\n",
       "      <td>3225.520020</td>\n",
       "    </tr>\n",
       "    <tr>\n",
       "      <th>2020-02-03</th>\n",
       "      <td>3268.439941</td>\n",
       "      <td>3235.659912</td>\n",
       "      <td>3235.659912</td>\n",
       "      <td>3248.919922</td>\n",
       "      <td>3757910000</td>\n",
       "      <td>3248.919922</td>\n",
       "    </tr>\n",
       "    <tr>\n",
       "      <th>2020-02-04</th>\n",
       "      <td>3306.919922</td>\n",
       "      <td>3280.610107</td>\n",
       "      <td>3280.610107</td>\n",
       "      <td>3297.590088</td>\n",
       "      <td>3995320000</td>\n",
       "      <td>3297.590088</td>\n",
       "    </tr>\n",
       "    <tr>\n",
       "      <th>2020-02-05</th>\n",
       "      <td>3337.580078</td>\n",
       "      <td>3313.750000</td>\n",
       "      <td>3324.909912</td>\n",
       "      <td>3334.689941</td>\n",
       "      <td>4117730000</td>\n",
       "      <td>3334.689941</td>\n",
       "    </tr>\n",
       "    <tr>\n",
       "      <th>2020-02-06</th>\n",
       "      <td>3347.959961</td>\n",
       "      <td>3334.389893</td>\n",
       "      <td>3344.919922</td>\n",
       "      <td>3345.780029</td>\n",
       "      <td>3868370000</td>\n",
       "      <td>3345.780029</td>\n",
       "    </tr>\n",
       "    <tr>\n",
       "      <th>2020-02-07</th>\n",
       "      <td>3341.419922</td>\n",
       "      <td>3322.120117</td>\n",
       "      <td>3335.540039</td>\n",
       "      <td>3327.709961</td>\n",
       "      <td>3730650000</td>\n",
       "      <td>3327.709961</td>\n",
       "    </tr>\n",
       "  </tbody>\n",
       "</table>\n",
       "<p>6320 rows × 6 columns</p>\n",
       "</div>"
      ],
      "text/plain": [
       "                   High          Low         Open        Close      Volume  \\\n",
       "Date                                                                         \n",
       "1995-01-03   459.269989   457.200012   459.209991   459.109985   262450000   \n",
       "1995-01-04   460.720001   457.559998   459.130005   460.709991   319510000   \n",
       "1995-01-05   461.299988   459.750000   460.730011   460.339996   309050000   \n",
       "1995-01-06   462.489990   459.470001   460.380005   460.679993   308070000   \n",
       "1995-01-09   461.769989   459.739990   460.670013   460.829987   278790000   \n",
       "1995-01-10   464.589996   460.899994   460.899994   461.679993   352450000   \n",
       "1995-01-11   463.609985   458.649994   461.679993   461.660004   346310000   \n",
       "1995-01-12   461.929993   460.630005   461.640015   461.640015   313040000   \n",
       "1995-01-13   466.429993   461.640015   461.640015   465.970001   336740000   \n",
       "1995-01-16   470.390015   465.970001   465.970001   469.380005   315810000   \n",
       "1995-01-17   470.149994   468.190002   469.380005   470.049988   331520000   \n",
       "1995-01-18   470.429993   468.029999   470.049988   469.709991   344660000   \n",
       "1995-01-19   469.720001   466.399994   469.720001   466.950012   297220000   \n",
       "1995-01-20   466.989990   463.989990   466.950012   464.779999   378190000   \n",
       "1995-01-23   466.230011   461.140015   464.779999   465.820007   325830000   \n",
       "1995-01-24   466.880005   465.470001   465.809998   465.859985   315430000   \n",
       "1995-01-25   469.510010   464.399994   465.859985   467.440002   342610000   \n",
       "1995-01-26   468.619995   466.899994   467.440002   468.320007   304730000   \n",
       "1995-01-27   471.359985   468.320007   468.320007   470.390015   339510000   \n",
       "1995-01-30   470.519989   467.489990   470.390015   468.510010   318550000   \n",
       "1995-01-31   471.029999   468.179993   468.510010   470.420013   411590000   \n",
       "1995-02-01   472.750000   469.290009   470.420013   470.399994   395310000   \n",
       "1995-02-02   472.790009   469.950012   470.399994   472.790009   322110000   \n",
       "1995-02-03   479.910004   472.779999   472.779999   478.649994   441000000   \n",
       "1995-02-06   481.950012   478.359985   478.640015   481.140015   325660000   \n",
       "1995-02-07   481.320007   479.690002   481.140015   480.809998   314660000   \n",
       "1995-02-08   482.600006   480.399994   480.809998   481.190002   318430000   \n",
       "1995-02-09   482.000000   479.910004   481.190002   480.190002   325570000   \n",
       "1995-02-10   481.959991   479.529999   480.190002   481.459991   295600000   \n",
       "1995-02-13   482.859985   481.070007   481.459991   481.649994   256270000   \n",
       "...                 ...          ...          ...          ...         ...   \n",
       "2019-12-26  3240.080078  3227.199951  3227.199951  3239.909912  2160680000   \n",
       "2019-12-27  3247.929932  3234.370117  3247.229980  3240.020020  2428670000   \n",
       "2019-12-30  3240.919922  3216.570068  3240.090088  3221.290039  3013290000   \n",
       "2019-12-31  3231.719971  3212.030029  3215.179932  3230.780029  2893810000   \n",
       "2020-01-02  3258.139893  3235.530029  3244.669922  3257.850098  3458250000   \n",
       "2020-01-03  3246.149902  3222.340088  3226.360107  3234.850098  3461290000   \n",
       "2020-01-06  3246.840088  3214.639893  3217.550049  3246.280029  3674070000   \n",
       "2020-01-07  3244.909912  3232.429932  3241.860107  3237.179932  3420380000   \n",
       "2020-01-08  3267.070068  3236.669922  3238.590088  3253.050049  3720890000   \n",
       "2020-01-09  3275.580078  3263.669922  3266.030029  3274.699951  3638390000   \n",
       "2020-01-10  3282.989990  3260.860107  3281.810059  3265.350098  3212970000   \n",
       "2020-01-13  3288.129883  3268.429932  3271.129883  3288.129883  3456380000   \n",
       "2020-01-14  3294.250000  3277.189941  3285.350098  3283.149902  3665130000   \n",
       "2020-01-15  3298.659912  3280.689941  3282.270020  3289.290039  3716840000   \n",
       "2020-01-16  3317.110107  3302.820068  3302.969971  3316.810059  3535080000   \n",
       "2020-01-17  3329.879883  3318.860107  3323.659912  3329.620117  3698170000   \n",
       "2020-01-21  3329.790039  3316.610107  3321.030029  3320.790039  4105340000   \n",
       "2020-01-22  3337.770020  3320.040039  3330.020020  3321.750000  3619850000   \n",
       "2020-01-23  3326.879883  3301.870117  3315.770020  3325.540039  3764860000   \n",
       "2020-01-24  3333.179932  3281.530029  3333.100098  3295.469971  3707130000   \n",
       "2020-01-27  3258.850098  3234.500000  3247.159912  3243.629883  3823100000   \n",
       "2020-01-28  3285.780029  3253.219971  3255.350098  3276.239990  3526720000   \n",
       "2020-01-29  3293.469971  3271.889893  3289.459961  3273.399902  3584500000   \n",
       "2020-01-30  3285.909912  3242.800049  3256.449951  3283.659912  3787250000   \n",
       "2020-01-31  3282.330078  3214.679932  3282.330078  3225.520020  4527830000   \n",
       "2020-02-03  3268.439941  3235.659912  3235.659912  3248.919922  3757910000   \n",
       "2020-02-04  3306.919922  3280.610107  3280.610107  3297.590088  3995320000   \n",
       "2020-02-05  3337.580078  3313.750000  3324.909912  3334.689941  4117730000   \n",
       "2020-02-06  3347.959961  3334.389893  3344.919922  3345.780029  3868370000   \n",
       "2020-02-07  3341.419922  3322.120117  3335.540039  3327.709961  3730650000   \n",
       "\n",
       "              Adj Close  \n",
       "Date                     \n",
       "1995-01-03   459.109985  \n",
       "1995-01-04   460.709991  \n",
       "1995-01-05   460.339996  \n",
       "1995-01-06   460.679993  \n",
       "1995-01-09   460.829987  \n",
       "1995-01-10   461.679993  \n",
       "1995-01-11   461.660004  \n",
       "1995-01-12   461.640015  \n",
       "1995-01-13   465.970001  \n",
       "1995-01-16   469.380005  \n",
       "1995-01-17   470.049988  \n",
       "1995-01-18   469.709991  \n",
       "1995-01-19   466.950012  \n",
       "1995-01-20   464.779999  \n",
       "1995-01-23   465.820007  \n",
       "1995-01-24   465.859985  \n",
       "1995-01-25   467.440002  \n",
       "1995-01-26   468.320007  \n",
       "1995-01-27   470.390015  \n",
       "1995-01-30   468.510010  \n",
       "1995-01-31   470.420013  \n",
       "1995-02-01   470.399994  \n",
       "1995-02-02   472.790009  \n",
       "1995-02-03   478.649994  \n",
       "1995-02-06   481.140015  \n",
       "1995-02-07   480.809998  \n",
       "1995-02-08   481.190002  \n",
       "1995-02-09   480.190002  \n",
       "1995-02-10   481.459991  \n",
       "1995-02-13   481.649994  \n",
       "...                 ...  \n",
       "2019-12-26  3239.909912  \n",
       "2019-12-27  3240.020020  \n",
       "2019-12-30  3221.290039  \n",
       "2019-12-31  3230.780029  \n",
       "2020-01-02  3257.850098  \n",
       "2020-01-03  3234.850098  \n",
       "2020-01-06  3246.280029  \n",
       "2020-01-07  3237.179932  \n",
       "2020-01-08  3253.050049  \n",
       "2020-01-09  3274.699951  \n",
       "2020-01-10  3265.350098  \n",
       "2020-01-13  3288.129883  \n",
       "2020-01-14  3283.149902  \n",
       "2020-01-15  3289.290039  \n",
       "2020-01-16  3316.810059  \n",
       "2020-01-17  3329.620117  \n",
       "2020-01-21  3320.790039  \n",
       "2020-01-22  3321.750000  \n",
       "2020-01-23  3325.540039  \n",
       "2020-01-24  3295.469971  \n",
       "2020-01-27  3243.629883  \n",
       "2020-01-28  3276.239990  \n",
       "2020-01-29  3273.399902  \n",
       "2020-01-30  3283.659912  \n",
       "2020-01-31  3225.520020  \n",
       "2020-02-03  3248.919922  \n",
       "2020-02-04  3297.590088  \n",
       "2020-02-05  3334.689941  \n",
       "2020-02-06  3345.780029  \n",
       "2020-02-07  3327.709961  \n",
       "\n",
       "[6320 rows x 6 columns]"
      ]
     },
     "execution_count": 15,
     "metadata": {},
     "output_type": "execute_result"
    }
   ],
   "source": [
    "dataset"
   ]
  },
  {
   "cell_type": "code",
   "execution_count": 16,
   "metadata": {},
   "outputs": [
    {
     "data": {
      "text/plain": [
       "<matplotlib.axes._subplots.AxesSubplot at 0x1c1fdc0fd0>"
      ]
     },
     "execution_count": 16,
     "metadata": {},
     "output_type": "execute_result"
    },
    {
     "data": {
      "image/png": "[encoded data removed]",
      "text/plain": [
       "<Figure size 432x288 with 1 Axes>"
      ]
     },
     "metadata": {},
     "output_type": "display_data"
    }
   ],
   "source": [
    "data = dataset['Close']\n",
    "data.plot()"
   ]
  },
  {
   "cell_type": "code",
   "execution_count": 17,
   "metadata": {},
   "outputs": [
    {
     "data": {
      "image/png": "[encoded data removed]",
      "text/plain": [
       "<Figure size 432x288 with 4 Axes>"
      ]
     },
     "metadata": {},
     "output_type": "display_data"
    }
   ],
   "source": [
    "result3=seasonal_decompose(dataset['Close'],model='additive',freq=252)\n",
    "decompose = result3.plot()\n",
    "plt.savefig(\"figure.png\")"
   ]
  },
  {
   "cell_type": "code",
   "execution_count": 18,
   "metadata": {},
   "outputs": [
    {
     "data": {
      "image/png": "[encoded data removed]",
      "text/plain": [
       "<Figure size 432x288 with 4 Axes>"
      ]
     },
     "metadata": {},
     "output_type": "display_data"
    }
   ],
   "source": [
    "result4=seasonal_decompose(dataset['Close'],model='multiplicative',freq=252)\n",
    "fig4 = result4.plot()"
   ]
  },
  {
   "cell_type": "markdown",
   "metadata": {},
   "source": [
    "On remarque que l'amplitude du motif de la saisonnalité ne dépends pas de la valeur moyenne (tendance) des données. On choisira donc de décomposer le signal en un signal attidif : "
   ]
  },
  {
   "cell_type": "markdown",
   "metadata": {},
   "source": [
    "S = Trend + Seasonnality + Residual "
   ]
  },
  {
   "cell_type": "code",
   "execution_count": 19,
   "metadata": {},
   "outputs": [
    {
     "data": {
      "text/plain": [
       "<matplotlib.axes._subplots.AxesSubplot at 0x1c20d25908>"
      ]
     },
     "execution_count": 19,
     "metadata": {},
     "output_type": "execute_result"
    },
    {
     "data": {
      "image/png": "[encoded data removed]",
      "text/plain": [
       "<Figure size 432x288 with 1 Axes>"
      ]
     },
     "metadata": {},
     "output_type": "display_data"
    }
   ],
   "source": [
    "dataR=result3.resid\n",
    "dataR.plot()"
   ]
  },
  {
   "cell_type": "markdown",
   "metadata": {},
   "source": [
    "## II)Raisonnement"
   ]
  },
  {
   "cell_type": "markdown",
   "metadata": {},
   "source": [
    "### 1) Définir $\\lambda$\n",
    "On choisit un $\\lambda$ simple avec une matrice de transition uniforme, probabilité d'émission gaussienne et l'état initial est l'état 1 $\\text{ i.e }\\pi=(1,0,...,0)$"
   ]
  },
  {
   "cell_type": "markdown",
   "metadata": {},
   "source": [
    "### 2)Trouver le nombre d'état cachés $N$:  \n",
    "#### a) Marchine Learning méthode, the   M-Fold Cross validation (M=5 ou 8 ou 10 : arbitraire): \n",
    "- On coupe les données en M partie\n",
    "- Boucle de M itérations:\n",
    " - la M-ième partie sera la partie test et on entraine le modèle sur les autres parties (Baum-Welch)\n",
    " - On calcule la vraissemblance sur la partie test pour obtenir un score (Bayes)\n",
    "- On prends la moyenne de ces M tests qu'on note L\n",
    "- On trace L=f(M), on choisit M tel que M maximise L\n",
    "\n",
    "#### b) Méthode statistique:\n",
    "- On fait varier N de 2 à 6 \n",
    "- On entraîne les données :\n",
    " - On prends M plages de données,\n",
    " - On recalibre l'état $\\lambda$ avec Baum-Welch à chaque plage de donnée\n",
    "- On trace les 4 critères AIC, BIC,HQC, CAIC en fonction de chaque plage de donnée (5 courbes pour chaque critère)\n",
    "- Choix de N qui minimise ces critères sur la globalité des K essais, des N courbes"
   ]
  },
  {
   "cell_type": "markdown",
   "metadata": {},
   "source": [
    "## III) Applications\n",
    "\n",
    "### 1) Modèle discret "
   ]
  },
  {
   "cell_type": "markdown",
   "metadata": {},
   "source": [
    "Algorithme Forward "
   ]
  },
  {
   "cell_type": "code",
   "execution_count": 119,
   "metadata": {},
   "outputs": [],
   "source": [
    "def forward(X, a, b, initial_distribution):\n",
    "    T=X.shape[0] #temps T : taille des observations -1 car index python\n",
    "    N=a.shape[0] #N : nombre d'états -1 car index python\n",
    "    alpha = np.zeros((T, N))\n",
    "    alpha[0, :] = initial_distribution * b[:, X[0]] #initialisation de alpha ; -1 dû python\n",
    "    for t in range(1, T):\n",
    "        for j in range(N):\n",
    "            alpha[t, j] = alpha[t - 1].dot(a[:, j]) * b[j, X[t]] #récurrence ; \n",
    " \n",
    "    return(alpha)"
   ]
  },
  {
   "cell_type": "markdown",
   "metadata": {},
   "source": [
    "Données émises :\n",
    "On observe une séquence de 20 nombres compris entre 0 et 9.\n",
    "O variable aléatoire telle que $O(\\Omega)=0,1,2,...,9$.\n",
    "\n",
    "Les états cachés z (qui ne le sont pas vraiment) sont : $z_0$= \"pair\" et $z_1$=\"impair\".\n",
    "La matrice de transition est alors :   $$A=\\frac{1}{2}\\begin{pmatrix} 1 & 1 \\\\ 1 & 1 \\end{pmatrix} $$  \n",
    "\n",
    "Quand on est dans l'état caché impaire (respectivement paire), on émet avec une probabilité uniforme un nombre impair (resp. pair) compris entre 0 et 9. \n",
    "La matrice d'émission est alors:   $$B=\\frac{1}{5}\\begin{pmatrix}  1 & 0 & 1 & 0 & 1 & 0 & 1 & 0 & 1 \\\\ 0 & 1 & 0 & 1 & 0 & 1 & 0 & 1 & 0 \\end{pmatrix}$$\n",
    "\n",
    "La distribution initiale est uniforme : $\\pi(z_0)=\\pi(z_1)=\\frac{1}{2}$"
   ]
  },
  {
   "cell_type": "code",
   "execution_count": 163,
   "metadata": {},
   "outputs": [
    {
     "data": {
      "text/plain": [
       "array([[7.5e-02, 2.5e-02],\n",
       "       [2.5e-03, 7.5e-03],\n",
       "       [2.5e-04, 7.5e-04],\n",
       "       [2.5e-05, 7.5e-05],\n",
       "       [2.5e-06, 7.5e-06],\n",
       "       [7.5e-07, 2.5e-07],\n",
       "       [2.5e-08, 7.5e-08],\n",
       "       [7.5e-09, 2.5e-09],\n",
       "       [2.5e-10, 7.5e-10],\n",
       "       [2.5e-11, 7.5e-11],\n",
       "       [2.5e-12, 7.5e-12],\n",
       "       [7.5e-13, 2.5e-13],\n",
       "       [2.5e-14, 7.5e-14],\n",
       "       [7.5e-15, 2.5e-15],\n",
       "       [2.5e-16, 7.5e-16],\n",
       "       [7.5e-17, 2.5e-17],\n",
       "       [2.5e-18, 7.5e-18],\n",
       "       [2.5e-19, 7.5e-19],\n",
       "       [7.5e-20, 2.5e-20],\n",
       "       [2.5e-21, 7.5e-21]])"
      ]
     },
     "execution_count": 163,
     "metadata": {},
     "output_type": "execute_result"
    }
   ],
   "source": [
    "X = np.array([rd.randrange(0,10) for i in range (0,20)])\n",
    "A=(1/2)*np.ones((2,2))\n",
    "B=np.array([[0.15,0.05,0.15,0.05,0.15,0.05,0.15,0.05,0.15,0.05],[0.05,0.15,0.05,0.15,0.05,0.15,0.05,0.15,0.05,0.15]])\n",
    "pi=np.array([1/2,1/2])\n",
    "alpha = forward(X,A,B,pi)\n",
    "X\n",
    "alpha"
   ]
  },
  {
   "cell_type": "markdown",
   "metadata": {},
   "source": [
    "Evidemment, pour un état fixé z, $\\alpha_{t}(z)$ est décroissante en fonction du temps car il y a de plus en plus de possibilités. \n",
    "\n",
    "On s'intéresse donct à $\\alpha_{t}(z)$ à t fixé. "
   ]
  },
  {
   "cell_type": "code",
   "execution_count": 164,
   "metadata": {},
   "outputs": [
    {
     "data": {
      "text/plain": [
       "array([0, 1, 1, 1, 1, 0, 1, 0, 1, 1, 1, 0, 1, 0, 1, 0, 1, 1, 0, 1])"
      ]
     },
     "execution_count": 164,
     "metadata": {},
     "output_type": "execute_result"
    }
   ],
   "source": [
    "def impaire(X):\n",
    "    res = []\n",
    "    for i in range(X.shape[0]):\n",
    "        if X[i]%2==0:\n",
    "            res.append(0)\n",
    "        else:\n",
    "            res.append(1)\n",
    "    res=np.array(res)\n",
    "    return(res)\n",
    "impaire(X)"
   ]
  },
  {
   "cell_type": "code",
   "execution_count": 165,
   "metadata": {},
   "outputs": [
    {
     "data": {
      "text/plain": [
       "[<matplotlib.lines.Line2D at 0x1c221e5eb8>,\n",
       " <matplotlib.lines.Line2D at 0x1c221ee0b8>]"
      ]
     },
     "execution_count": 165,
     "metadata": {},
     "output_type": "execute_result"
    },
    {
     "data": {
      "image/png": "[encoded data removed]",
      "text/plain": [
       "<Figure size 432x288 with 1 Axes>"
      ]
     },
     "metadata": {},
     "output_type": "display_data"
    }
   ],
   "source": [
    "Temps=np.linspace(1,X.shape[0],X.shape[0])\n",
    "plt.plot(Temps,X,Temps,impaire(X))"
   ]
  },
  {
   "cell_type": "markdown",
   "metadata": {},
   "source": [
    "Qu'émet notre système $\\pi$,A,B ?"
   ]
  },
  {
   "cell_type": "code",
   "execution_count": 166,
   "metadata": {},
   "outputs": [
    {
     "data": {
      "text/plain": [
       "0"
      ]
     },
     "execution_count": 166,
     "metadata": {},
     "output_type": "execute_result"
    }
   ],
   "source": [
    "def simul_markov(Vecteur_Proba):\n",
    "    Vecteur_Proba_cumule = np.cumsum(Vecteur_Proba)\n",
    "    U =rd.random()\n",
    "    X = 0\n",
    "    while U>Vecteur_Proba_cumule[X]:\n",
    "        X=X+1\n",
    "    return(X)\n",
    "simul_markov(np.array([1/2,1/2]))"
   ]
  },
  {
   "cell_type": "code",
   "execution_count": 170,
   "metadata": {},
   "outputs": [
    {
     "name": "stdout",
     "output_type": "stream",
     "text": [
      "états cachés:  [1, 0, 0, 0, 0, 1, 1, 1, 1, 0, 0, 1, 0, 1, 0, 0, 0, 1, 0, 1]\n",
      "observation:  [3, 2, 0, 6, 4, 7, 7, 9, 7, 0, 4, 7, 0, 1, 2, 2, 4, 2, 9, 3]\n"
     ]
    }
   ],
   "source": [
    "etats_caches=[simul_markov(pi)]\n",
    "emission = [simul_markov(B[etats_caches[0]])]\n",
    "for i in range(1,20):\n",
    "    etats_caches.append(simul_markov(A[res[i-1]-1]))\n",
    "    emission.append(simul_markov(B[etats_caches[i]]))\n",
    "print(\"états cachés: \",etats_caches)\n",
    "print(\"observation: \",emission)"
   ]
  },
  {
   "cell_type": "code",
   "execution_count": null,
   "metadata": {},
   "outputs": [],
   "source": []
  },
  {
   "cell_type": "markdown",
   "metadata": {},
   "source": [
    "#### Solution au problème 1 : $P(O|\\lambda)$"
   ]
  },
  {
   "cell_type": "code",
   "execution_count": 22,
   "metadata": {},
   "outputs": [
    {
     "name": "stdout",
     "output_type": "stream",
     "text": [
      "O= [ 9 10 10  8  2  8  9  3 10  4  3  9  8  5  9  9  8  7 10] , proba= 1.000000000000001e-19\n"
     ]
    }
   ],
   "source": [
    "S1=sum(alpha[-1])\n",
    "print(\"O=\",X,\", proba=\",S1)"
   ]
  },
  {
   "cell_type": "markdown",
   "metadata": {},
   "source": [
    "Algorithme Backward"
   ]
  },
  {
   "cell_type": "code",
   "execution_count": 23,
   "metadata": {},
   "outputs": [],
   "source": [
    "def backward(X, a, b):\n",
    "    beta = np.zeros((X.shape[0], a.shape[0]))\n",
    "    beta[X.shape[0] - 1] = np.ones((a.shape[0]))\n",
    "    for t in range(X.shape[0] - 2, -1, -1):\n",
    "        for j in range(a.shape[0]):\n",
    "            beta[t, j] = (beta[t + 1] * b[:, X[t + 1]-1]).dot(a[j, :])\n",
    " \n",
    "    return beta"
   ]
  },
  {
   "cell_type": "code",
   "execution_count": 24,
   "metadata": {},
   "outputs": [
    {
     "data": {
      "text/plain": [
       "array([[1.e-18, 1.e-18],\n",
       "       [1.e-17, 1.e-17],\n",
       "       [1.e-16, 1.e-16],\n",
       "       [1.e-15, 1.e-15],\n",
       "       [1.e-14, 1.e-14],\n",
       "       [1.e-13, 1.e-13],\n",
       "       [1.e-12, 1.e-12],\n",
       "       [1.e-11, 1.e-11],\n",
       "       [1.e-10, 1.e-10],\n",
       "       [1.e-09, 1.e-09],\n",
       "       [1.e-08, 1.e-08],\n",
       "       [1.e-07, 1.e-07],\n",
       "       [1.e-06, 1.e-06],\n",
       "       [1.e-05, 1.e-05],\n",
       "       [1.e-04, 1.e-04],\n",
       "       [1.e-03, 1.e-03],\n",
       "       [1.e-02, 1.e-02],\n",
       "       [1.e-01, 1.e-01],\n",
       "       [1.e+00, 1.e+00]])"
      ]
     },
     "execution_count": 24,
     "metadata": {},
     "output_type": "execute_result"
    }
   ],
   "source": [
    "backward(X,a,b)"
   ]
  },
  {
   "cell_type": "code",
   "execution_count": 25,
   "metadata": {},
   "outputs": [],
   "source": [
    "def baum_welch(X, a, b, initial_distribution, n_iter=100):\n",
    "    N = a.shape[0]\n",
    "    T = len(X)\n",
    " \n",
    "    for n in range(n_iter):\n",
    "        alpha = forward(X, a, b, initial_distribution)\n",
    "        beta = backward(X, a, b)\n",
    " \n",
    "        xi = np.zeros((N, N, T - 1))\n",
    "        for t in range(T - 1):\n",
    "            denominator = np.dot(np.dot(alpha[t, :].T, a) * b[:, X[t + 1]].T, beta[t + 1, :])\n",
    "            for i in range(N):\n",
    "                numerator = alpha[t, i] * a[i, :] * b[:, X[t + 1]].T * beta[t + 1, :].T\n",
    "                xi[i, :, t] = numerator / denominator\n",
    " \n",
    "        gamma = np.sum(xi, axis=1)\n",
    "        a = np.sum(xi, 2) / np.sum(gamma, axis=1).reshape((-1, 1))\n",
    " \n",
    "       #Add additional T'th element in gamma\n",
    "        gamma = np.hstack((gamma, np.sum(xi[:, :, T - 2], axis=0).reshape((-1, 1))))\n",
    " \n",
    "        K = b.shape[1]\n",
    "        denominator = np.sum(gamma, axis=1)\n",
    "        for l in range(K):\n",
    "            b[:, l] = np.sum(gamma[:, X == l], axis=1)\n",
    "        b = np.divide(b, denominator.reshape((-1, 1)))\n",
    "\n",
    "    return {\"a\":a, \"b\":b}"
   ]
  },
  {
   "cell_type": "markdown",
   "metadata": {},
   "source": [
    "### 2) Modèle continu"
   ]
  },
  {
   "cell_type": "markdown",
   "metadata": {},
   "source": [
    "Création du modèle"
   ]
  },
  {
   "cell_type": "code",
   "execution_count": 26,
   "metadata": {},
   "outputs": [],
   "source": [
    "from hmmlearn import hmm\n",
    "N=3\n",
    "model = hmm.GaussianHMM(n_components=N,covariance_type=\"diag\")\n",
    "model.startprob_ = np.concatenate((np.array([1]),np.zeros(N-1)))\n",
    "model.transmat_=1/N*np.ones(N)\n"
   ]
  },
  {
   "cell_type": "markdown",
   "metadata": {},
   "source": [
    "K fold Cross Validation"
   ]
  },
  {
   "cell_type": "code",
   "execution_count": 27,
   "metadata": {},
   "outputs": [
    {
     "name": "stdout",
     "output_type": "stream",
     "text": [
      "[1 2 3 4 5 6 7 8 9] [0]\n",
      "[0 2 3 4 5 6 7 8 9] [1]\n",
      "[0 1 3 4 5 6 7 8 9] [2]\n",
      "[0 1 2 4 5 6 7 8 9] [3]\n",
      "[0 1 2 3 5 6 7 8 9] [4]\n",
      "[0 1 2 3 4 6 7 8 9] [5]\n",
      "[0 1 2 3 4 5 7 8 9] [6]\n",
      "[0 1 2 3 4 5 6 8 9] [7]\n",
      "[0 1 2 3 4 5 6 7 9] [8]\n",
      "[0 1 2 3 4 5 6 7 8] [9]\n"
     ]
    }
   ],
   "source": [
    "M=10\n",
    "kfM= KFold(M)\n",
    "x=[i for i in range(10)]\n",
    "for train,test in kfM.split(x):\n",
    "    print(train,test)"
   ]
  },
  {
   "cell_type": "code",
   "execution_count": 28,
   "metadata": {},
   "outputs": [
    {
     "name": "stdout",
     "output_type": "stream",
     "text": [
      "-5715.246793266275\n",
      "-5731.621051029958\n",
      "-5752.307336932807\n",
      "-5799.119439908771\n",
      "-5868.70332736872\n",
      "-5916.947801018908\n",
      "-6003.393236360808\n",
      "-5985.018666207113\n",
      "-6041.84054536397\n"
     ]
    },
    {
     "data": {
      "text/plain": [
       "[<matplotlib.lines.Line2D at 0x1c13fcfc50>]"
      ]
     },
     "execution_count": 28,
     "metadata": {},
     "output_type": "execute_result"
    },
    {
     "data": {
      "image/png": "[encoded data removed]",
      "text/plain": [
       "<Figure size 432x288 with 1 Axes>"
      ]
     },
     "metadata": {},
     "output_type": "display_data"
    }
   ],
   "source": [
    "M=10\n",
    "Likelihood=[]\n",
    "for N in range(2,11):\n",
    "    model = hmm.GaussianHMM(n_components=N,covariance_type=\"diag\")\n",
    "    model.startprob_ = np.concatenate((np.array([1]),np.zeros(N-1)))\n",
    "    model.transmat_=(1/N)*np.ones(N)\n",
    "    \n",
    "    kfM=KFold(M)\n",
    "    res=[]\n",
    "    donnee=dataR.values\n",
    "    for train,test in kfM.split(donnee):\n",
    "        model.fit(train.reshape(-1,1))\n",
    "        res.append(model.score(test.reshape(-1,1)))\n",
    "    resultat = sum(res)/len(res)\n",
    "    print(resultat)\n",
    "    Likelihood.append(resultat)\n",
    "plt.plot([i for i in range(2,11)],Likelihood)"
   ]
  },
  {
   "cell_type": "code",
   "execution_count": 39,
   "metadata": {},
   "outputs": [
    {
     "data": {
      "text/plain": [
       "10"
      ]
     },
     "execution_count": 39,
     "metadata": {},
     "output_type": "execute_result"
    }
   ],
   "source": [
    "X[2]"
   ]
  },
  {
   "cell_type": "code",
   "execution_count": 62,
   "metadata": {},
   "outputs": [
    {
     "data": {
      "text/plain": [
       "0.8248377299882009"
      ]
     },
     "execution_count": 62,
     "metadata": {},
     "output_type": "execute_result"
    }
   ],
   "source": [
    "plt.plot(g)"
   ]
  },
  {
   "cell_type": "code",
   "execution_count": 92,
   "metadata": {},
   "outputs": [],
   "source": [
    "eta =np.zeros((6, 1))"
   ]
  },
  {
   "cell_type": "code",
   "execution_count": 93,
   "metadata": {},
   "outputs": [
    {
     "data": {
      "text/plain": [
       "array([[0.],\n",
       "       [0.],\n",
       "       [0.],\n",
       "       [0.],\n",
       "       [0.],\n",
       "       [0.]])"
      ]
     },
     "execution_count": 93,
     "metadata": {},
     "output_type": "execute_result"
    }
   ],
   "source": [
    "eta"
   ]
  },
  {
   "cell_type": "code",
   "execution_count": 94,
   "metadata": {},
   "outputs": [
    {
     "data": {
      "text/plain": [
       "array([0.])"
      ]
     },
     "execution_count": 94,
     "metadata": {},
     "output_type": "execute_result"
    }
   ],
   "source": [
    "eta[0]"
   ]
  },
  {
   "cell_type": "code",
   "execution_count": 105,
   "metadata": {},
   "outputs": [],
   "source": [
    "alpha = np.array([[i,2] for i in range(6)])"
   ]
  },
  {
   "cell_type": "code",
   "execution_count": 96,
   "metadata": {},
   "outputs": [
    {
     "data": {
      "text/plain": [
       "array([[0, 2],\n",
       "       [1, 2],\n",
       "       [2, 2],\n",
       "       [3, 2],\n",
       "       [4, 2],\n",
       "       [5, 2]])"
      ]
     },
     "execution_count": 96,
     "metadata": {},
     "output_type": "execute_result"
    }
   ],
   "source": [
    "alpha"
   ]
  },
  {
   "cell_type": "code",
   "execution_count": 99,
   "metadata": {},
   "outputs": [
    {
     "data": {
      "text/plain": [
       "[2, 3, 4, 5, 6, 7]"
      ]
     },
     "execution_count": 99,
     "metadata": {},
     "output_type": "execute_result"
    }
   ],
   "source": [
    "l=[sum(alpha[i]) for i in range(6)]\n",
    "l"
   ]
  },
  {
   "cell_type": "code",
   "execution_count": 114,
   "metadata": {},
   "outputs": [
    {
     "data": {
      "text/plain": [
       "(20, 2)"
      ]
     },
     "execution_count": 114,
     "metadata": {},
     "output_type": "execute_result"
    }
   ],
   "source": [
    "alpha.shape"
   ]
  },
  {
   "cell_type": "code",
   "execution_count": 115,
   "metadata": {},
   "outputs": [],
   "source": [
    "T = alpha.shape[0]\n",
    "N = alpha.shape[1]\n",
    "eta =np.zeros((T, N))\n",
    "for t in range(T):\n",
    "    eta[t]=alpha[t]/sum(alpha[t])"
   ]
  },
  {
   "cell_type": "code",
   "execution_count": 116,
   "metadata": {},
   "outputs": [
    {
     "data": {
      "text/plain": [
       "array([[1., 0.],\n",
       "       [1., 0.],\n",
       "       [1., 0.],\n",
       "       [0., 1.],\n",
       "       [1., 0.],\n",
       "       [0., 1.],\n",
       "       [0., 1.],\n",
       "       [0., 1.],\n",
       "       [0., 1.],\n",
       "       [1., 0.],\n",
       "       [1., 0.],\n",
       "       [1., 0.],\n",
       "       [0., 1.],\n",
       "       [0., 1.],\n",
       "       [0., 1.],\n",
       "       [0., 1.],\n",
       "       [1., 0.],\n",
       "       [1., 0.],\n",
       "       [0., 1.],\n",
       "       [0., 1.]])"
      ]
     },
     "execution_count": 116,
     "metadata": {},
     "output_type": "execute_result"
    }
   ],
   "source": [
    "eta"
   ]
  },
  {
   "cell_type": "code",
   "execution_count": 154,
   "metadata": {},
   "outputs": [
    {
     "data": {
      "text/plain": [
       "array([[1.e-01, 0.e+00],\n",
       "       [1.e-02, 0.e+00],\n",
       "       [1.e-03, 0.e+00],\n",
       "       [1.e-04, 0.e+00],\n",
       "       [1.e-05, 0.e+00],\n",
       "       [1.e-06, 0.e+00],\n",
       "       [1.e-07, 0.e+00],\n",
       "       [1.e-08, 0.e+00],\n",
       "       [1.e-09, 0.e+00],\n",
       "       [1.e-10, 0.e+00],\n",
       "       [1.e-11, 0.e+00],\n",
       "       [1.e-12, 0.e+00],\n",
       "       [0.e+00, 1.e-13],\n",
       "       [1.e-14, 0.e+00],\n",
       "       [0.e+00, 1.e-15],\n",
       "       [1.e-16, 0.e+00],\n",
       "       [1.e-17, 0.e+00],\n",
       "       [0.e+00, 1.e-18],\n",
       "       [0.e+00, 1.e-19],\n",
       "       [1.e-20, 0.e+00]])"
      ]
     },
     "execution_count": 154,
     "metadata": {},
     "output_type": "execute_result"
    }
   ],
   "source": [
    "alpha"
   ]
  },
  {
   "cell_type": "code",
   "execution_count": 155,
   "metadata": {},
   "outputs": [
    {
     "data": {
      "text/plain": [
       "array([0.1, 0. ])"
      ]
     },
     "execution_count": 155,
     "metadata": {},
     "output_type": "execute_result"
    }
   ],
   "source": [
    "alpha[0]"
   ]
  },
  {
   "cell_type": "code",
   "execution_count": 181,
   "metadata": {},
   "outputs": [],
   "source": [
    "l = np.array([[0 , 1],[0 , 1]])"
   ]
  },
  {
   "cell_type": "code",
   "execution_count": 182,
   "metadata": {},
   "outputs": [
    {
     "data": {
      "text/plain": [
       "array([[0, 1],\n",
       "       [0, 1]])"
      ]
     },
     "execution_count": 182,
     "metadata": {},
     "output_type": "execute_result"
    }
   ],
   "source": [
    "l"
   ]
  },
  {
   "cell_type": "code",
   "execution_count": 171,
   "metadata": {},
   "outputs": [
    {
     "data": {
      "text/plain": [
       "array([0.5, 0.5])"
      ]
     },
     "execution_count": 171,
     "metadata": {},
     "output_type": "execute_result"
    }
   ],
   "source": [
    "pi"
   ]
  },
  {
   "cell_type": "code",
   "execution_count": 172,
   "metadata": {},
   "outputs": [
    {
     "data": {
      "text/plain": [
       "array([0.025, 0.075])"
      ]
     },
     "execution_count": 172,
     "metadata": {},
     "output_type": "execute_result"
    }
   ],
   "source": [
    "pi*B[:, 3]"
   ]
  },
  {
   "cell_type": "code",
   "execution_count": 176,
   "metadata": {},
   "outputs": [
    {
     "data": {
      "text/plain": [
       "array([0. , 0.5])"
      ]
     },
     "execution_count": 176,
     "metadata": {},
     "output_type": "execute_result"
    }
   ],
   "source": [
    "l*pi"
   ]
  },
  {
   "cell_type": "code",
   "execution_count": 177,
   "metadata": {},
   "outputs": [
    {
     "data": {
      "text/plain": [
       "array([0. , 0.5])"
      ]
     },
     "execution_count": 177,
     "metadata": {},
     "output_type": "execute_result"
    }
   ],
   "source": [
    "pi*l"
   ]
  },
  {
   "cell_type": "code",
   "execution_count": 179,
   "metadata": {},
   "outputs": [
    {
     "data": {
      "text/plain": [
       "array([[0.5, 0.5],\n",
       "       [0.5, 0.5]])"
      ]
     },
     "execution_count": 179,
     "metadata": {},
     "output_type": "execute_result"
    }
   ],
   "source": [
    "A"
   ]
  },
  {
   "cell_type": "code",
   "execution_count": null,
   "metadata": {},
   "outputs": [],
   "source": []
  }
 ],
 "metadata": {
  "kernelspec": {
   "display_name": "Python 3",
   "language": "python",
   "name": "python3"
  },
  "language_info": {
   "codemirror_mode": {
    "name": "ipython",
    "version": 3
   },
   "file_extension": ".py",
   "mimetype": "text/x-python",
   "name": "python",
   "nbconvert_exporter": "python",
   "pygments_lexer": "ipython3",
   "version": "3.6.5"
  }
 },
 "nbformat": 4,
 "nbformat_minor": 2
}
